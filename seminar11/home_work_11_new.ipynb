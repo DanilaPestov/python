{
 "cells": [
  {
   "cell_type": "markdown",
   "id": "2dcc1292",
   "metadata": {},
   "source": [
    "# Домашнее задание\n",
    "#### SymPy"
   ]
  },
  {
   "cell_type": "raw",
   "id": "5c5a4500",
   "metadata": {},
   "source": [
    "f(x) = -12x^4*sin(cos(x)) - 18x^3+5x^2 + 10x - 30\n",
    "\n",
    "1. Определить корни\n",
    "\n",
    "2. Найти интервалы, на которых функция возрастает\n",
    "\n",
    "3. Найти интервалы, на которых функция убывает\n",
    "\n",
    "4. Построить график\n",
    "\n",
    "5. Вычислить вершину\n",
    "\n",
    "6. Определить промежутки, на котором f > 0\n",
    "\n",
    "7. Определить промежутки, на котором f < 0"
   ]
  },
  {
   "cell_type": "code",
   "execution_count": 1,
   "id": "4342a9cc",
   "metadata": {},
   "outputs": [],
   "source": [
    "from sympy import *"
   ]
  },
  {
   "cell_type": "code",
   "execution_count": 2,
   "id": "a5cc1187",
   "metadata": {},
   "outputs": [
    {
     "data": {
      "text/latex": [
       "$\\displaystyle \\left(\\frac{\\sin{\\left(x \\right)}}{2} + \\frac{\\cos{\\left(x \\right)}}{2}\\right)^{2} \\sin{\\left(x \\right)}$"
      ],
      "text/plain": [
       "(sin(x)/2 + cos(x)/2)**2*sin(x)"
      ]
     },
     "execution_count": 2,
     "metadata": {},
     "output_type": "execute_result"
    }
   ],
   "source": [
    "x = Symbol('x', real=True)\n",
    "# y = Symbol('y', real=True)\n",
    "# y = -12*x**4*sin(cos(x)) - 18*x**3+5*x**2 + 10*x - 30\n",
    "y = (sin(x)/2 + cos(x)/2)**2 * sin(x)\n",
    "y"
   ]
  },
  {
   "cell_type": "markdown",
   "id": "464ffd00",
   "metadata": {},
   "source": [
    "#### Определить корни"
   ]
  },
  {
   "cell_type": "code",
   "execution_count": 3,
   "id": "3cd989d6",
   "metadata": {},
   "outputs": [
    {
     "data": {
      "text/plain": [
       "[0, -pi/4, 3*pi/4, pi]"
      ]
     },
     "execution_count": 3,
     "metadata": {},
     "output_type": "execute_result"
    }
   ],
   "source": [
    "solve(y)\n"
   ]
  },
  {
   "cell_type": "markdown",
   "id": "e4e75e09",
   "metadata": {},
   "source": [
    "#### Найти интервалы, на которых функция возрастает/убывает"
   ]
  },
  {
   "cell_type": "code",
   "execution_count": 4,
   "id": "ca07f489",
   "metadata": {},
   "outputs": [
    {
     "data": {
      "text/plain": [
       "[-pi/4,\n",
       " 3*pi/4,\n",
       " -2*atan(-3/2 + sqrt(6)*sqrt(5 - sqrt(17))/2 + sqrt(17)/2),\n",
       " 2*atan(3/2 + sqrt(17)/2 + sqrt(6)*sqrt(sqrt(17) + 5)/2),\n",
       " 2*atan(-sqrt(17)/2 + sqrt(6)*sqrt(5 - sqrt(17))/2 + 3/2),\n",
       " 2*atan(-sqrt(6)*sqrt(sqrt(17) + 5)/2 + 3/2 + sqrt(17)/2)]"
      ]
     },
     "execution_count": 4,
     "metadata": {},
     "output_type": "execute_result"
    }
   ],
   "source": [
    "d = diff(y)\n",
    "roots_d = solve(d)\n",
    "roots_d"
   ]
  },
  {
   "cell_type": "code",
   "execution_count": 5,
   "id": "94725a96",
   "metadata": {},
   "outputs": [],
   "source": [
    "def make_intervals(roots):\n",
    "    intervals = []\n",
    "    intervals.append([roots[0]-1, roots[0]])\n",
    "    for i in range(len(roots)-1):\n",
    "        r = [roots[i], roots[i+1]]\n",
    "        intervals.append(r)\n",
    "    intervals.append([roots[-1], roots[-1]+1])\n",
    "    return intervals"
   ]
  },
  {
   "cell_type": "code",
   "execution_count": 6,
   "id": "e71e98c6",
   "metadata": {},
   "outputs": [],
   "source": [
    "intervals = make_intervals(roots_d)"
   ]
  },
  {
   "cell_type": "code",
   "execution_count": 7,
   "id": "f14b1439",
   "metadata": {},
   "outputs": [
    {
     "name": "stdout",
     "output_type": "stream",
     "text": [
      ">>> Функция возрастает на промежутке (-oo, -pi/4)\n",
      ">>> Функция возрастает на промежутке (-pi/4, 3*pi/4)\n",
      ">>> Функция возрастает на промежутке (3*pi/4, -2*atan(-3/2 + sqrt(6)*sqrt(5 - sqrt(17))/2 + sqrt(17)/2))\n",
      ">>> Функция возрастает на промежутке (-2*atan(-3/2 + sqrt(6)*sqrt(5 - sqrt(17))/2 + sqrt(17)/2), 2*atan(3/2 + sqrt(17)/2 + sqrt(6)*sqrt(sqrt(17) + 5)/2))\n",
      ">>> Функция убывает на промежутке (2*atan(3/2 + sqrt(17)/2 + sqrt(6)*sqrt(sqrt(17) + 5)/2), 2*atan(-sqrt(17)/2 + sqrt(6)*sqrt(5 - sqrt(17))/2 + 3/2))\n",
      ">>> Функция возрастает на промежутке (2*atan(-sqrt(17)/2 + sqrt(6)*sqrt(5 - sqrt(17))/2 + 3/2), 2*atan(-sqrt(6)*sqrt(sqrt(17) + 5)/2 + 3/2 + sqrt(17)/2))\n",
      ">>> Функция возрастает на промежутке (2*atan(-sqrt(6)*sqrt(sqrt(17) + 5)/2 + 3/2 + sqrt(17)/2), oo)\n"
     ]
    }
   ],
   "source": [
    "for i in intervals:\n",
    "    start_int = -oo if intervals.index(i) == 0 else i[0]\n",
    "    end_int = oo if intervals.index(i) == len(intervals)-1 else i[1]\n",
    "    if d.evalf(subs={x:(i[0] + i[1])/2}) > 0:\n",
    "        print(f'>>> Функция возрастает на промежутке {start_int, end_int}')\n",
    "    else:\n",
    "        print(f'>>> Функция убывает на промежутке {start_int, end_int}')"
   ]
  },
  {
   "cell_type": "markdown",
   "id": "c3b1b148",
   "metadata": {},
   "source": [
    "#### Построить график"
   ]
  },
  {
   "cell_type": "code",
   "execution_count": 8,
   "id": "89441757",
   "metadata": {},
   "outputs": [
    {
     "data": {
      "image/png": "[encoded data removed]",
      "text/plain": [
       "<Figure size 432x288 with 1 Axes>"
      ]
     },
     "metadata": {
      "needs_background": "light"
     },
     "output_type": "display_data"
    },
    {
     "data": {
      "text/plain": [
       "<sympy.plotting.plot.Plot at 0x7fd9311adbe0>"
      ]
     },
     "execution_count": 8,
     "metadata": {},
     "output_type": "execute_result"
    }
   ],
   "source": [
    "plot(y, line_color='red')"
   ]
  },
  {
   "cell_type": "markdown",
   "id": "61409532",
   "metadata": {},
   "source": [
    "#### Вычислить вершину"
   ]
  },
  {
   "cell_type": "code",
   "execution_count": 9,
   "id": "aafd9dad",
   "metadata": {},
   "outputs": [
    {
     "name": "stdout",
     "output_type": "stream",
     "text": [
      "Точка максимума - \"-pi/4\"\n",
      "Точка минимума - \"3*pi/4\"\n",
      "Точка минимума - \"-2*atan(-3/2 + sqrt(6)*sqrt(5 - sqrt(17))/2 + sqrt(17)/2)\"\n",
      "Точка максимума - \"2*atan(3/2 + sqrt(17)/2 + sqrt(6)*sqrt(sqrt(17) + 5)/2)\"\n",
      "Точка максимума - \"2*atan(-sqrt(17)/2 + sqrt(6)*sqrt(5 - sqrt(17))/2 + 3/2)\"\n",
      "Точка минимума - \"2*atan(-sqrt(6)*sqrt(sqrt(17) + 5)/2 + 3/2 + sqrt(17)/2)\"\n"
     ]
    }
   ],
   "source": [
    "for i in roots_d:\n",
    "    left_val = i-0.01 if i == 0 else i-0.01*abs(i)\n",
    "    right_val = i+0.01 if i == 0 else i+0.01*abs(i)\n",
    "    if d.evalf(subs={x: left_val}) < d.evalf(subs={x: i}) and d.evalf(subs={x: right_val}) > d.evalf(subs={x: i}):\n",
    "        print(f'Точка минимума - \"{i}\"')\n",
    "    else:\n",
    "        print(f'Точка максимума - \"{i}\"')"
   ]
  },
  {
   "cell_type": "markdown",
   "id": "3bf89b53",
   "metadata": {},
   "source": [
    "#### Определить промежутки, на котором f > 0/f < 0"
   ]
  },
  {
   "cell_type": "code",
   "execution_count": 10,
   "id": "d7e070c1",
   "metadata": {},
   "outputs": [
    {
     "name": "stdout",
     "output_type": "stream",
     "text": [
      "f(x) < 0 на промежутке (-oo, -pi/4)\n",
      "f(x) > 0 на промежутке (-pi/4, 3*pi/4)\n",
      "f(x) > 0 на промежутке (3*pi/4, -2*atan(-3/2 + sqrt(6)*sqrt(5 - sqrt(17))/2 + sqrt(17)/2))\n",
      "f(x) > 0 на промежутке (-2*atan(-3/2 + sqrt(6)*sqrt(5 - sqrt(17))/2 + sqrt(17)/2), 2*atan(3/2 + sqrt(17)/2 + sqrt(6)*sqrt(sqrt(17) + 5)/2))\n",
      "f(x) > 0 на промежутке (2*atan(3/2 + sqrt(17)/2 + sqrt(6)*sqrt(sqrt(17) + 5)/2), 2*atan(-sqrt(17)/2 + sqrt(6)*sqrt(5 - sqrt(17))/2 + 3/2))\n",
      "f(x) > 0 на промежутке (2*atan(-sqrt(17)/2 + sqrt(6)*sqrt(5 - sqrt(17))/2 + 3/2), 2*atan(-sqrt(6)*sqrt(sqrt(17) + 5)/2 + 3/2 + sqrt(17)/2))\n",
      "f(x) > 0 на промежутке (2*atan(-sqrt(6)*sqrt(sqrt(17) + 5)/2 + 3/2 + sqrt(17)/2), oo)\n"
     ]
    }
   ],
   "source": [
    "for i in intervals:\n",
    "    start_int = -oo if intervals.index(i) == 0 else i[0]\n",
    "    end_int = oo if intervals.index(i) == len(intervals)-1 else i[1]\n",
    "    if y.evalf(subs={x:(i[0] + i[1])/2}) > 0:\n",
    "        print(f'f(x) > 0 на промежутке {start_int, end_int}')\n",
    "    else:\n",
    "        print(f'f(x) < 0 на промежутке {start_int, end_int}')"
   ]
  },
  {
   "cell_type": "code",
   "execution_count": null,
   "id": "dd8e8983",
   "metadata": {},
   "outputs": [],
   "source": []
  },
  {
   "cell_type": "code",
   "execution_count": null,
   "id": "0e45070f",
   "metadata": {},
   "outputs": [],
   "source": []
  }
 ],
 "metadata": {
  "kernelspec": {
   "display_name": "Python 3 (ipykernel)",
   "language": "python",
   "name": "python3"
  },
  "language_info": {
   "codemirror_mode": {
    "name": "ipython",
    "version": 3
   },
   "file_extension": ".py",
   "mimetype": "text/x-python",
   "name": "python",
   "nbconvert_exporter": "python",
   "pygments_lexer": "ipython3",
   "version": "3.9.12"
  }
 },
 "nbformat": 4,
 "nbformat_minor": 5
}
