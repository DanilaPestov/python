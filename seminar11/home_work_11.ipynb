{
 "cells": [
  {
   "cell_type": "markdown",
   "id": "f94a3ac2",
   "metadata": {},
   "source": [
    "# Домашнее задание\n",
    "#### SymPy"
   ]
  },
  {
   "cell_type": "raw",
   "id": "a5bac41d",
   "metadata": {},
   "source": [
    "f(x) = -12x^4*sin(cos(x)) - 18x^3+5x^2 + 10x - 30\n",
    "\n",
    "1. Определить корни\n",
    "\n",
    "2. Найти интервалы, на которых функция возрастает\n",
    "\n",
    "3. Найти интервалы, на которых функция убывает\n",
    "\n",
    "4. Построить график\n",
    "\n",
    "5. Вычислить вершину\n",
    "\n",
    "6. Определить промежутки, на котором f > 0\n",
    "\n",
    "7. Определить промежутки, на котором f < 0"
   ]
  },
  {
   "cell_type": "code",
   "execution_count": 1,
   "id": "f52bf505",
   "metadata": {},
   "outputs": [],
   "source": [
    "from sympy import *"
   ]
  },
  {
   "cell_type": "code",
   "execution_count": 2,
   "id": "a66f0b89",
   "metadata": {},
   "outputs": [],
   "source": [
    "x = Symbol('x', real=True)"
   ]
  },
  {
   "cell_type": "code",
   "execution_count": 3,
   "id": "b2d38ce9",
   "metadata": {},
   "outputs": [],
   "source": [
    "y = -12*x**4*sin(cos(x)) - 18*x**3+5*x**2 + 10*x - 30\n",
    "y_roots = solve(Eq(x**4-(x-2)**2, 0), x)\n"
   ]
  },
  {
   "cell_type": "code",
   "execution_count": 4,
   "id": "7b5a7a57",
   "metadata": {},
   "outputs": [
    {
     "data": {
      "text/latex": [
       "$\\displaystyle - 12 x^{4} \\sin{\\left(\\cos{\\left(x \\right)} \\right)} - 18 x^{3} + 5 x^{2} + 10 x - 30$"
      ],
      "text/plain": [
       "-12*x**4*sin(cos(x)) - 18*x**3 + 5*x**2 + 10*x - 30"
      ]
     },
     "execution_count": 4,
     "metadata": {},
     "output_type": "execute_result"
    }
   ],
   "source": [
    "y"
   ]
  },
  {
   "cell_type": "markdown",
   "id": "3853b47e",
   "metadata": {},
   "source": [
    "#### Определить корни"
   ]
  },
  {
   "cell_type": "code",
   "execution_count": 5,
   "id": "6e8a5b9f",
   "metadata": {},
   "outputs": [
    {
     "data": {
      "text/plain": [
       "[-2, 1]"
      ]
     },
     "execution_count": 5,
     "metadata": {},
     "output_type": "execute_result"
    }
   ],
   "source": [
    "y_roots"
   ]
  },
  {
   "cell_type": "markdown",
   "id": "c723383a",
   "metadata": {},
   "source": [
    "#### Найти интервалы, на которых функция возрастает"
   ]
  },
  {
   "cell_type": "markdown",
   "id": "42ef6f9b",
   "metadata": {},
   "source": [
    "#### Найти интервалы, на которых функция убывает"
   ]
  },
  {
   "cell_type": "markdown",
   "id": "da65f089",
   "metadata": {},
   "source": [
    "#### Построить график"
   ]
  },
  {
   "cell_type": "code",
   "execution_count": 6,
   "id": "b743eb84",
   "metadata": {},
   "outputs": [
    {
     "data": {
      "image/png": "[encoded data removed]",
      "text/plain": [
       "<Figure size 432x288 with 1 Axes>"
      ]
     },
     "metadata": {
      "needs_background": "light"
     },
     "output_type": "display_data"
    },
    {
     "data": {
      "text/plain": [
       "<sympy.plotting.plot.Plot at 0x7feb9b533e80>"
      ]
     },
     "execution_count": 6,
     "metadata": {},
     "output_type": "execute_result"
    }
   ],
   "source": [
    "plot(y)"
   ]
  },
  {
   "cell_type": "markdown",
   "id": "0b65a85b",
   "metadata": {},
   "source": [
    "#### Вычислить вершину"
   ]
  },
  {
   "cell_type": "markdown",
   "id": "357c8e06",
   "metadata": {},
   "source": [
    "#### Определить промежутки, на котором f > 0"
   ]
  },
  {
   "cell_type": "markdown",
   "id": "f073fe35",
   "metadata": {},
   "source": [
    "#### Определить промежутки, на котором f < 0"
   ]
  },
  {
   "cell_type": "code",
   "execution_count": null,
   "id": "c6247ffb",
   "metadata": {},
   "outputs": [],
   "source": []
  }
 ],
 "metadata": {
  "kernelspec": {
   "display_name": "Python 3 (ipykernel)",
   "language": "python",
   "name": "python3"
  },
  "language_info": {
   "codemirror_mode": {
    "name": "ipython",
    "version": 3
   },
   "file_extension": ".py",
   "mimetype": "text/x-python",
   "name": "python",
   "nbconvert_exporter": "python",
   "pygments_lexer": "ipython3",
   "version": "3.9.12"
  }
 },
 "nbformat": 4,
 "nbformat_minor": 5
}
